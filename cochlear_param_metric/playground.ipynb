{
 "cells": [
  {
   "cell_type": "code",
   "execution_count": 1,
   "id": "2babfc7e-dc46-48cf-b23e-915be391a05d",
   "metadata": {
    "ExecuteTime": {
     "end_time": "2021-12-07T15:13:01.285050Z",
     "start_time": "2021-12-07T15:13:01.265622Z"
    }
   },
   "outputs": [],
   "source": [
    "\n",
    "from measure import soundDist, l2Float, bash \n",
    "import matplotlib.pyplot as plt"
   ]
  },
  {
   "cell_type": "markdown",
   "id": "77b7d3df",
   "metadata": {},
   "source": [
    "# Measure statistics using the MATLAB code\n",
    "\n",
    "Strongly suggest do this step first. Measure all the audios' stats in one call. Because start the matlab in background is time consuming. "
   ]
  },
  {
   "cell_type": "code",
   "execution_count": 2,
   "id": "ca8dfaba",
   "metadata": {},
   "outputs": [],
   "source": [
    "inpath = \"../samples\"\n",
    "output_dir = \"./mats\""
   ]
  },
  {
   "cell_type": "code",
   "execution_count": 19,
   "id": "fb0ee0f6",
   "metadata": {},
   "outputs": [
    {
     "name": "stdout",
     "output_type": "stream",
     "text": [
      "Measuring statistics of ../../samples\n",
      "Is a dir\n",
      "1/11 | DSApplause--numClappers_exp-00.00--c-00.wav\n",
      "2/11 | DSApplause--numClappers_exp-00.10--c-00.wav\n",
      "3/11 | DSApplause--numClappers_exp-00.20--c-00.wav\n",
      "4/11 | DSApplause--numClappers_exp-00.30--c-00.wav\n",
      "5/11 | DSApplause--numClappers_exp-00.40--c-00.wav\n",
      "6/11 | DSApplause--numClappers_exp-00.50--c-00.wav\n",
      "7/11 | DSApplause--numClappers_exp-00.60--c-00.wav\n",
      "8/11 | DSApplause--numClappers_exp-00.70--c-00.wav\n",
      "9/11 | DSApplause--numClappers_exp-00.80--c-00.wav\n",
      "10/11 | DSApplause--numClappers_exp-00.90--c-00.wav\n",
      "11/11 | DSApplause--numClappers_exp-01.00--c-00.wav\n"
     ]
    }
   ],
   "source": [
    "# This calls the matlab, make sure you have installed the matlab\n",
    "# and it's in the env\n",
    "\n",
    "bash(f\"matlab -batch \\\"Meas('{inpath}', '{output_dir}')\\\"\")"
   ]
  },
  {
   "cell_type": "markdown",
   "id": "5b7ebf98",
   "metadata": {},
   "source": [
    "# Measure distance based on the .mat data"
   ]
  },
  {
   "cell_type": "code",
   "execution_count": 3,
   "id": "22b0e71b-5ef4-42b9-9d97-6bea68137963",
   "metadata": {},
   "outputs": [],
   "source": [
    "# where contains the .mat files\n",
    "name_pattern = './mats/DSApplause--numClappers_exp-{param}--c-00.mat'\n",
    "\n",
    "parameters = ['00.00', '00.10', '00.20', '00.30', '00.40', '00.50', \n",
    "              '00.60', '00.70', '00.80', '00.90', '01.00']"
   ]
  },
  {
   "cell_type": "code",
   "execution_count": 4,
   "id": "205bfd66",
   "metadata": {},
   "outputs": [],
   "source": [
    "dists = []\n",
    "anchor_file = name_pattern.format(param='00.00')\n",
    "\n",
    "for param in parameters:\n",
    "    dists.append(\n",
    "        soundDist(anchor_file, name_pattern.format(param=param))\n",
    "    )"
   ]
  },
  {
   "cell_type": "code",
   "execution_count": 5,
   "id": "89925c7d",
   "metadata": {},
   "outputs": [
    {
     "data": {
      "image/png": "[encoded data removed]",
      "text/plain": [
       "<Figure size 432x288 with 1 Axes>"
      ]
     },
     "metadata": {
      "needs_background": "light"
     },
     "output_type": "display_data"
    }
   ],
   "source": [
    "plt.plot(l2Float(parameters), dists, marker='.')\n",
    "\n",
    "plt.xlabel('param')\n",
    "plt.ylabel('CPM distance')\n",
    "plt.title('CPM distance from anchor param 00.00 to different params')\n",
    "\n",
    "plt.grid(True)\n",
    "plt.tight_layout()\n",
    "plt.show()"
   ]
  },
  {
   "cell_type": "code",
   "execution_count": null,
   "id": "11bd5257",
   "metadata": {},
   "outputs": [],
   "source": []
  }
 ],
 "metadata": {
  "interpreter": {
   "hash": "d07525ba28b75d9895f5f143ef12665aa6d1f0d68c80609749a64e078c427423"
  },
  "kernelspec": {
   "display_name": "Python [conda env:ml]",
   "language": "python",
   "name": "python3"
  },
  "language_info": {
   "codemirror_mode": {
    "name": "ipython",
    "version": 3
   },
   "file_extension": ".py",
   "mimetype": "text/x-python",
   "name": "python",
   "nbconvert_exporter": "python",
   "pygments_lexer": "ipython3",
   "version": "3.9.5"
  },
  "toc": {
   "base_numbering": 1,
   "nav_menu": {},
   "number_sections": true,
   "sideBar": true,
   "skip_h1_title": false,
   "title_cell": "Table of Contents",
   "title_sidebar": "Contents",
   "toc_cell": false,
   "toc_position": {},
   "toc_section_display": true,
   "toc_window_display": false
  },
  "varInspector": {
   "cols": {
    "lenName": 16,
    "lenType": 16,
    "lenVar": 40
   },
   "kernels_config": {
    "python": {
     "delete_cmd_postfix": "",
     "delete_cmd_prefix": "del ",
     "library": "var_list.py",
     "varRefreshCmd": "print(var_dic_list())"
    },
    "r": {
     "delete_cmd_postfix": ") ",
     "delete_cmd_prefix": "rm(",
     "library": "var_list.r",
     "varRefreshCmd": "cat(var_dic_list()) "
    }
   },
   "types_to_exclude": [
    "module",
    "function",
    "builtin_function_or_method",
    "instance",
    "_Feature"
   ],
   "window_display": false
  }
 },
 "nbformat": 4,
 "nbformat_minor": 5
}
