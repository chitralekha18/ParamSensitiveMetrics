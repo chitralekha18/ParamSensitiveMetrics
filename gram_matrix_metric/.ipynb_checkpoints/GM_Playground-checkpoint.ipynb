{
 "cells": [
  {
   "cell_type": "markdown",
   "metadata": {},
   "source": [
    "#### This notebook is used to demonstrate the calculation of GM Similarity and GM Loss. "
   ]
  },
  {
   "cell_type": "code",
   "execution_count": 1,
   "metadata": {},
   "outputs": [
    {
     "name": "stdout",
     "output_type": "stream",
     "text": [
      "GPU available = False\n"
     ]
    }
   ],
   "source": [
    "%run GM_Calculation.ipynb "
   ]
  },
  {
   "cell_type": "code",
   "execution_count": 2,
   "metadata": {},
   "outputs": [],
   "source": [
    "import matplotlib.pyplot as plt"
   ]
  },
  {
   "cell_type": "code",
   "execution_count": 6,
   "metadata": {},
   "outputs": [
    {
     "name": "stdout",
     "output_type": "stream",
     "text": [
      "['../samples/DSApplause--numClappers_exp-00.00--c-00.wav', '../samples/DSApplause--numClappers_exp-00.10--c-00.wav', '../samples/DSApplause--numClappers_exp-00.20--c-00.wav', '../samples/DSApplause--numClappers_exp-00.30--c-00.wav', '../samples/DSApplause--numClappers_exp-00.40--c-00.wav', '../samples/DSApplause--numClappers_exp-00.50--c-00.wav', '../samples/DSApplause--numClappers_exp-00.60--c-00.wav', '../samples/DSApplause--numClappers_exp-00.70--c-00.wav', '../samples/DSApplause--numClappers_exp-00.80--c-00.wav', '../samples/DSApplause--numClappers_exp-00.90--c-00.wav', '../samples/DSApplause--numClappers_exp-01.00--c-00.wav']\n"
     ]
    }
   ],
   "source": [
    "numStreams=6\n",
    "testfolder= '../samples'\n",
    "import os\n",
    "input_imgs = []\n",
    "listdir = os.listdir(testfolder)\n",
    "for filename in listdir:\n",
    "    input_imgs.append(testfolder+'/'+filename)\n",
    "\n",
    "input_imgs.sort()\n",
    "print(input_imgs)"
   ]
  },
  {
   "cell_type": "markdown",
   "metadata": {},
   "source": [
    "#### Gram-Matrix Cosine Distance Metric (GMcos)"
   ]
  },
  {
   "cell_type": "code",
   "execution_count": 7,
   "metadata": {},
   "outputs": [],
   "source": [
    "loss_2=np.zeros((11,1))\n",
    "gram_list=[] \n",
    "\n",
    "for i in range(len(input_imgs)):\n",
    "    input_img=prepare_input(input_imgs[i])\n",
    "    result=[]\n",
    "    for j in range(numStreams):\n",
    "        temp=get_gram_v2(cnnlist[j],result,input_img, None, 1, 0)\n",
    "    gram_list.append(result)\n",
    "\n",
    "for i in range(len(gram_list)):\n",
    "    loss_2[i]=compute_cos_distance(gram_list[0],gram_list[i])"
   ]
  },
  {
   "cell_type": "code",
   "execution_count": 8,
   "metadata": {},
   "outputs": [
    {
     "data": {
      "text/plain": [
       "Text(0.5, 1.0, 'GMcos')"
      ]
     },
     "execution_count": 8,
     "metadata": {},
     "output_type": "execute_result"
    },
    {
     "data": {
      "image/png": "[encoded data removed]",
      "text/plain": [
       "<Figure size 432x288 with 1 Axes>"
      ]
     },
     "metadata": {
      "needs_background": "light"
     },
     "output_type": "display_data"
    }
   ],
   "source": [
    "plt.plot(loss_2)\n",
    "plt.title(\"GMcos\")"
   ]
  },
  {
   "cell_type": "markdown",
   "metadata": {},
   "source": [
    "#### Gram-Matrix Metric (GM)"
   ]
  },
  {
   "cell_type": "code",
   "execution_count": 9,
   "metadata": {},
   "outputs": [],
   "source": [
    "loss_3=np.zeros((11,1))\n",
    "gram_list=[] \n",
    "\n",
    "for i in range(len(input_imgs)):\n",
    "    input_img=prepare_input(input_imgs[i])\n",
    "    result=[]\n",
    "    for j in range(numStreams):\n",
    "        temp=get_gram(cnnlist[j],result,input_img, None, 1, 0)\n",
    "    gram_list.append(result)\n",
    "\n",
    "\n",
    "for i in range(len(gram_list)):\n",
    "    loss_3[i]= compute_mse_distance(gram_list[0],gram_list[i])"
   ]
  },
  {
   "cell_type": "code",
   "execution_count": 10,
   "metadata": {},
   "outputs": [
    {
     "data": {
      "text/plain": [
       "Text(0.5, 1.0, 'GM')"
      ]
     },
     "execution_count": 10,
     "metadata": {},
     "output_type": "execute_result"
    },
    {
     "data": {
      "image/png": "[encoded data removed]",
      "text/plain": [
       "<Figure size 432x288 with 1 Axes>"
      ]
     },
     "metadata": {
      "needs_background": "light"
     },
     "output_type": "display_data"
    }
   ],
   "source": [
    "plt.plot(loss_3)\n",
    "plt.title(\"GM\")"
   ]
  },
  {
   "cell_type": "code",
   "execution_count": null,
   "metadata": {},
   "outputs": [],
   "source": []
  }
 ],
 "metadata": {
  "kernelspec": {
   "display_name": "Python 3 (ipykernel)",
   "language": "python",
   "name": "python3"
  },
  "language_info": {
   "codemirror_mode": {
    "name": "ipython",
    "version": 3
   },
   "file_extension": ".py",
   "mimetype": "text/x-python",
   "name": "python",
   "nbconvert_exporter": "python",
   "pygments_lexer": "ipython3",
   "version": "3.8.12"
  }
 },
 "nbformat": 4,
 "nbformat_minor": 4
}
